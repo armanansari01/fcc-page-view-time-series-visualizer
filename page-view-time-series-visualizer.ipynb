import pandas as pd
import numpy as np
import matplotlib.pyplot as plt
import seaborn as sns

df = pd.read_csv('fcc-forum-pageviews.csv',index_col='date',parse_dates=True)
df.head()

# Clean data
# by filtering out days when the page views were in the top 2.5% of the dataset or bottom 2.5% of the dataset.
df = df.loc[(df['value'] >= df['value'].quantile(0.025)) &
           (df['value'] <= df['value'].quantile(0.975))]
df.head()

fig, ax = plt.subplots(figsize=(12,4))

ax = sns.lineplot(data=df,x='date',y='value')
plt.xlabel('Date')
plt.ylabel('Page Views')
plt.title('Daily freeCodeCamp Forum Page Views 5/2016-12/2019')

#Create a draw_bar_plot function that draws a bar chart 
#It should show average daily page views for each month grouped by year. 
#The legend should show month labels and have a title of Months. 
#On the chart, the label on the x axis should be Years 
#and the label on the y axis should be Average Page Views.

newdf = df.copy()
newdf['month'] = pd.DatetimeIndex(newdf.index).month
newdf['year'] = pd.DatetimeIndex(newdf.index).year
newdf = newdf.groupby(['year','month'])['value'].mean()
newdf = newdf.unstack()
newdf.columns = ['January','February','March','April','May','June'
                 ,'July','August','September','October','November','December']
newdf

fig = newdf.plot(kind= 'bar', figsize = (15,10)).figure

plt.title('')
plt.xlabel('Years',fontsize=12)
plt.ylabel('Average Page Views',fontsize=12)
plt.legend(title= 'Months', fontsize = 15,loc='upper left')

# Create a box plot
# prepare data for box plots (this part is done!)
df_box = df.copy().reset_index()
df_box['year'] = [d.year for d in df_box.date]
df_box['month'] = [d.strftime('%b') for d in df_box.date]
df_box

fig, (ax1,ax2) = plt.subplots(1,2,figsize=(16,8))
sns.boxplot(ax=ax1,x='year',y='value',data=df_box)
ax1.set_title("Year-wise Box Plot (Trend)")
ax1.set_xlabel("Year")
ax1.set_ylabel("Page Views")

sns.boxplot(ax=ax2,x='month',y='value',data=df_box)
ax2.set_title("Month-wise Box Plot (Seasonality)")
ax2.set_xlabel("Month")
ax2.set_ylabel("Page Views")
